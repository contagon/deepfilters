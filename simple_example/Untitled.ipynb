{
 "cells": [
  {
   "cell_type": "code",
   "execution_count": 20,
   "metadata": {},
   "outputs": [],
   "source": [
    "from networks import OdometryData\n",
    "import numpy as np\n",
    "import sympy as sy\n",
    "from numba import njit, jit"
   ]
  },
  {
   "cell_type": "code",
   "execution_count": 30,
   "metadata": {},
   "outputs": [],
   "source": [
    "x, y, theta, dt, dr1, dr2 = sy.symbols('x, y, theta, dt, dr1, dr2')\n",
    "lx, ly = sy.symbols('lx, ly')\n",
    "x_var = [x, y, theta]\n",
    "l_var = [lx, ly]\n",
    "h_sym = sy.Array([sy.sqrt((x - lx)**2 + (y - ly)**2),\n",
    "                                sy.atan2(ly-y, lx-x)-theta])\n",
    "h_temp = lambda x, l: np.array([ np.sqrt((x[0] - l[0])**2+(x[1] - l[1])**2), np.arctan2(l[1]-x[1], l[0]-x[0])-x[2]])"
   ]
  },
  {
   "cell_type": "code",
   "execution_count": 32,
   "metadata": {},
   "outputs": [],
   "source": [
    "h = njit( h_temp )"
   ]
  },
  {
   "cell_type": "code",
   "execution_count": 3,
   "metadata": {},
   "outputs": [
    {
     "name": "stderr",
     "output_type": "stream",
     "text": [
      "/home/contagon/anaconda3/envs/dl/lib/python3.7/importlib/_bootstrap.py:219: RuntimeWarning: numpy.ufunc size changed, may indicate binary incompatibility. Expected 192 from C header, got 216 from PyObject\n",
      "  return f(*args, **kwds)\n"
     ]
    }
   ],
   "source": [
    "l = np.array([[21, 168.3333, 315.6667, 463, 463, 315.6667, 168.3333, 21, np.nan],\n",
    "                [0, 0, 0, 0, 292, 292, 292, 292, np.nan]]).T\n",
    "data = OdometryData(\"odometry_particle_data.npz\")"
   ]
  },
  {
   "cell_type": "code",
   "execution_count": 47,
   "metadata": {},
   "outputs": [],
   "source": [
    "z = data.data['z']\n",
    "p_mu = data.data['p_mu']"
   ]
  },
  {
   "cell_type": "code",
   "execution_count": 48,
   "metadata": {},
   "outputs": [
    {
     "name": "stdout",
     "output_type": "stream",
     "text": [
      "True\n"
     ]
    }
   ],
   "source": [
    "landmark = z[:,:,2]\n",
    "print(np.isnan(landmark).any())\n",
    "landmark[np.isnan(landmark)] = 9"
   ]
  },
  {
   "cell_type": "code",
   "execution_count": 49,
   "metadata": {},
   "outputs": [],
   "source": [
    "temp = l[landmark[:,0].astype('int')-1]"
   ]
  },
  {
   "cell_type": "code",
   "execution_count": 51,
   "metadata": {},
   "outputs": [],
   "source": [
    "h_mu = h_temp(p_mu.T, temp.T)"
   ]
  },
  {
   "cell_type": "code",
   "execution_count": 52,
   "metadata": {},
   "outputs": [
    {
     "data": {
      "text/plain": [
       "True"
      ]
     },
     "execution_count": 52,
     "metadata": {},
     "output_type": "execute_result"
    }
   ],
   "source": [
    "np.isnan(h_mu).any()"
   ]
  },
  {
   "cell_type": "code",
   "execution_count": 61,
   "metadata": {},
   "outputs": [],
   "source": [
    "z = data.data['z']\n",
    "z[np.isnan(z)] = 9\n",
    "p_mu = data.data['p_mu']\n",
    "zbar = []\n",
    "for i in range(z.shape[1]):\n",
    "    li = l[z[:,i,2].astype('int')-1]\n",
    "    zbar.append( h_temp(p_mu.T, li.T).T )\n",
    "zbar = np.transpose( np.array(zbar), (1,0,2))"
   ]
  },
  {
   "cell_type": "code",
   "execution_count": 77,
   "metadata": {},
   "outputs": [],
   "source": [
    "v = z[:,:,:2] - zbar"
   ]
  },
  {
   "cell_type": "code",
   "execution_count": 78,
   "metadata": {},
   "outputs": [],
   "source": [
    "while np.any( v[:,:,1] > np.pi ):\n",
    "    v[ v[:,:,1] > np.pi ] -= 2*np.pi\n",
    "while np.any( v[:,:,1] < -np.pi ):\n",
    "    v[ v[:,:,1] < -np.pi ] += 2*np.pi"
   ]
  },
  {
   "cell_type": "code",
   "execution_count": 86,
   "metadata": {},
   "outputs": [
    {
     "data": {
      "text/plain": [
       "-3.129189216208264"
      ]
     },
     "execution_count": 86,
     "metadata": {},
     "output_type": "execute_result"
    }
   ],
   "source": [
    "np.nanmin( v[:,:,1] )"
   ]
  },
  {
   "cell_type": "code",
   "execution_count": 88,
   "metadata": {},
   "outputs": [
    {
     "data": {
      "text/plain": [
       "9.0"
      ]
     },
     "execution_count": 88,
     "metadata": {},
     "output_type": "execute_result"
    }
   ],
   "source": [
    "np.nanmax( z[:,:,2] )"
   ]
  },
  {
   "cell_type": "code",
   "execution_count": null,
   "metadata": {},
   "outputs": [],
   "source": []
  }
 ],
 "metadata": {
  "kernelspec": {
   "display_name": "Python 3",
   "language": "python",
   "name": "python3"
  },
  "language_info": {
   "codemirror_mode": {
    "name": "ipython",
    "version": 3
   },
   "file_extension": ".py",
   "mimetype": "text/x-python",
   "name": "python",
   "nbconvert_exporter": "python",
   "pygments_lexer": "ipython3",
   "version": "3.7.9"
  }
 },
 "nbformat": 4,
 "nbformat_minor": 4
}
